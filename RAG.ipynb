{
 "cells": [
  {
   "cell_type": "code",
   "execution_count": 1,
   "metadata": {},
   "outputs": [],
   "source": [
    "from dotenv import load_dotenv\n",
    "import bs4\n",
    "from langchain import hub\n",
    "from langchain_chroma import Chroma\n",
    "from langchain_core.output_parsers import StrOutputParser\n",
    "from langchain_core.runnables import RunnablePassthrough\n",
    "from langchain_openai import OpenAIEmbeddings\n",
    "from langchain_text_splitters import RecursiveCharacterTextSplitter\n",
    "\n",
    "load_dotenv()\n",
    "\n",
    "from langchain_openai import ChatOpenAI\n",
    "\n",
    "llm = ChatOpenAI(model=\"gpt-4o-mini\")"
   ]
  },
  {
   "cell_type": "code",
   "execution_count": 2,
   "metadata": {},
   "outputs": [],
   "source": [
    "from langchain_community.document_loaders import PyPDFLoader\n",
    "\n",
    "pdf_path = 'data/pdfs/Tese_Ficha_catalografica[v3].pdf' \n",
    "loader = PyPDFLoader(pdf_path)\n",
    "\n",
    "docs = loader.load()"
   ]
  },
  {
   "cell_type": "code",
   "execution_count": 4,
   "metadata": {},
   "outputs": [],
   "source": [
    "text_splitter = RecursiveCharacterTextSplitter(chunk_size=1000, chunk_overlap=200)\n",
    "splits = text_splitter.split_documents(docs)\n",
    "\n",
    "vectorstore = Chroma.from_documents(documents=splits, embedding=OpenAIEmbeddings(), persist_directory='./', collection_name='Tese')\n",
    "\n",
    "# Retrieve and generate using the relevant snippets of the blog.\n",
    "retriever = vectorstore.as_retriever(\n",
    "    search_type=\"similarity\", search_kwargs={\"k\": 6}\n",
    ")"
   ]
  },
  {
   "cell_type": "code",
   "execution_count": 18,
   "metadata": {},
   "outputs": [
    {
     "data": {
      "text/plain": [
       "'31 \\n \\nDe acordo com o Programa das Nações Unidas para o Desenvolvimento \\n(PNUD) , o IDH, criado em 1990, consiste em um índice com variação de 0 a 1 , que \\nmede de forma resumida o progresso do desenvolvimento humano a longo prazo a \\npartir de três dimensões básicas: renda ; educação ; e saúde. Esse índice foi criado \\ncom o objetivo de oferecer uma alternativa em relação a um indicador muito utilizado : \\no Produto Interno Bruto (PIB)  per capita , utilizad o para medir o nível de \\ndesenvolvimento , que considera va apenas a dimensão econô mica do \\ndesenvolvimento. Assim, o IDH atua como uma medida que amplia a perspectiva \\nsobre o desenvolvimento humano sem, contudo, esgotar todos os aspectos de \\ndesenvolvimento. Os três pilares que constituem o IDH são mensurados da seguinte \\nmaneira , de acord o com o PNUD:  \\n \\nUma vida longa e saudável (saúde) é medida pela expectativa de vida. \\nO acesso ao conhecimento (educação) é medido por: i) média de anos\\n\\njovens de 11 a 13 anos que frequentam os anos finais do ensino fundamental; iii) \\npercentual dos jovens de 15 a 17 anos que possuem o ensino fundamental  completo; \\niv) percentual de jovens de 18 a 20 anos que possuem o ensino médio completo. \\nAssim, o IDHM Educação é demonstrado pela Equação 2.  \\n \\n𝐼𝐷𝐻𝑀 𝐸=√(𝐼𝐸𝑎𝑑𝑢𝑙𝑡𝑜 ∗𝐼𝐹𝐸 𝑗𝑜𝑣𝑒𝑚 ∗𝐼𝐹𝐸 𝑗𝑜𝑣𝑒𝑚 )3 (3) \\n \\nem que:  \\nIDHM E: Índice de De senvolvimento Humano Municipal de Educação;  \\nIEadulto: índice de escolaridade da população adulta, obtido pela taxa de frequência e \\nde conclusão dividida por 100;  \\nIFE jovem: índice de fluxo escolar da população jovem, obtido pela média aritmética das \\nquatro  faixas etárias.\\n\\ndo ERJ segue a proposta por Raiher e Lima (2014). Os autores utilizaram o Índice de \\nDesenvolvimento Humano Municipal (IDHM) de uma região em um período de tempo \\npara analisar a sua evolução em termos  de um comparativo intrarregional , \\ncomparação com a média dos municípios da região estudada, e inter -regional, \\ncomparação com a média dos municípios do Brasil.  Embora existam inúmeras críticas \\nde como é construído o IDH , ele permite identificar a real impo rtância de cada \\ndimensão no desenvolvimento humano e elencar as prioridades de políticas para se \\natingir um maior nível de bem-estar . Des sa forma , é um Índice que permite aderência \\nà fundamentação teórica do desenvolvimento defendida nest a Tese .\\n\\nDe forma semelhante, o IDHM é composto por três indicadores do \\ndesenvolvimento humano: longevidade ; educação ; e renda.  A metodologia aplicada \\nao cálculo desse índice adequa a metodologia do IDH global ao cenário br asileiro e à \\ndisponibilidade de dados nacionais. O IDHM também varia de 0 a 1 e , quanto mais \\npróximo de 1, maior é o desenvolvimento humano. A Equação 1 mostra como esse \\níndice é calculado.  \\n \\n𝐼𝐷𝐻𝑀 =√𝐼𝐷𝐻𝑀 𝐿∗𝐼𝐷𝐻𝑀 𝐸∗𝐼𝐷𝐻𝑀 𝑅3 (1) \\n \\nem que: \\nIDHM L: Índice de Desenvolvimento Humano Municipal de Longevidade;  \\nIDHM E: Índice de Desenvolvimento Humano Municipal de Educação;  \\nIDHM R: Índice de Desenvolvimento Humano Municipal de Renda.'"
      ]
     },
     "execution_count": 18,
     "metadata": {},
     "output_type": "execute_result"
    }
   ],
   "source": [
    "# Load database\n",
    "vectorstore = Chroma(persist_directory='./', collection_name='Tese', embedding_function=OpenAIEmbeddings())\n",
    "retriever = vectorstore.as_retriever()\n",
    "retriever.invoke('idh') "
   ]
  },
  {
   "cell_type": "code",
   "execution_count": 31,
   "metadata": {},
   "outputs": [],
   "source": [
    "from langchain_core.prompts import ChatPromptTemplate\n",
    "from langchain_core.runnables import RunnablePassthrough\n",
    "\n",
    "def format_docs(docs):\n",
    "    return \"\\n\\n\".join(doc.page_content for doc in docs)\n",
    "\n",
    "message = \"\"\"\n",
    "Answer this question using the provided context only.\n",
    "\n",
    "{question}\n",
    "\n",
    "Context:\n",
    "{context}\n",
    "\"\"\"\n",
    "\n",
    "prompt = ChatPromptTemplate.from_messages([(\"human\", message)])\n",
    "\n",
    "rag_chain = {\"context\": retriever | format_docs, \"question\": RunnablePassthrough()} | prompt | llm"
   ]
  },
  {
   "cell_type": "code",
   "execution_count": 32,
   "metadata": {},
   "outputs": [
    {
     "data": {
      "text/plain": [
       "AIMessage(content='O município que precisa de atenção urgente é Porto Real, pois está associado ao círculo vicioso e apresenta indicadores essenciais de desenvolvimento humano abaixo da média.', response_metadata={'token_usage': {'completion_tokens': 29, 'prompt_tokens': 689, 'total_tokens': 718}, 'model_name': 'gpt-4o-mini-2024-07-18', 'system_fingerprint': 'fp_48196bc67a', 'finish_reason': 'stop', 'logprobs': None}, id='run-eb7e6fb7-4c34-4f20-a0a2-c2f416efaee5-0', usage_metadata={'input_tokens': 689, 'output_tokens': 29, 'total_tokens': 718})"
      ]
     },
     "execution_count": 32,
     "metadata": {},
     "output_type": "execute_result"
    }
   ],
   "source": [
    "rag_chain.invoke('Qual o municipio que precisa de atenção urgente')"
   ]
  },
  {
   "cell_type": "markdown",
   "metadata": {},
   "source": [
    "**Passando o resultado da consulta ao banco vetorial manualmente**"
   ]
  },
  {
   "cell_type": "code",
   "execution_count": 46,
   "metadata": {},
   "outputs": [
    {
     "data": {
      "text/plain": [
       "'O município que precisa de atenção urgente é Porto Real, que está classificado na categoria de círculo vicioso e apresenta indicadores essenciais de desenvolvimento humano abaixo da média. Isso indica uma situação de vulnerabilidade que requer políticas públicas direcionadas.'"
      ]
     },
     "execution_count": 46,
     "metadata": {},
     "output_type": "execute_result"
    }
   ],
   "source": [
    "from langchain_core.runnables import RunnablePassthrough\n",
    "\n",
    "RAG_TEMPLATE = \"\"\"\n",
    "You are an assistant for question-answering tasks. Use the following pieces of retrieved context to answer the question. If you don't know the answer, just say that you don't know. Use three sentences maximum and keep the answer concise.\n",
    "\n",
    "<context>\n",
    "{context}\n",
    "</context>\n",
    "\n",
    "Answer the following question:\n",
    "\n",
    "{question}\"\"\"\n",
    "\n",
    "rag_prompt = ChatPromptTemplate.from_template(RAG_TEMPLATE)\n",
    "\n",
    "chain = (\n",
    "    RunnablePassthrough.assign(context=lambda input: format_docs(input[\"context\"]))\n",
    "    | rag_prompt\n",
    "    | llm\n",
    "    | StrOutputParser()\n",
    ")\n",
    "\n",
    "question = \"Qual o municipio que precisa de atenção urgente?\"\n",
    "\n",
    "docs = vectorstore.similarity_search(question)\n",
    "\n",
    "# Run\n",
    "chain.invoke({\"context\": docs, \"question\": question})"
   ]
  },
  {
   "cell_type": "code",
   "execution_count": null,
   "metadata": {},
   "outputs": [],
   "source": []
  }
 ],
 "metadata": {
  "kernelspec": {
   "display_name": "env",
   "language": "python",
   "name": "python3"
  },
  "language_info": {
   "codemirror_mode": {
    "name": "ipython",
    "version": 3
   },
   "file_extension": ".py",
   "mimetype": "text/x-python",
   "name": "python",
   "nbconvert_exporter": "python",
   "pygments_lexer": "ipython3",
   "version": "3.12.2"
  }
 },
 "nbformat": 4,
 "nbformat_minor": 2
}
