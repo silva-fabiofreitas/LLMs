{
 "cells": [
  {
   "cell_type": "markdown",
   "metadata": {},
   "source": [
    "# Sumário\n",
    "\n",
    "<a href='./RAG.ipynb' >RAG</a>  \n",
    "<a href='./Memory.ipynb' >Memória</a>  \n",
    "<a href='./SQL.ipynb' >Text-to-SQL</a>  \n",
    "<a href='./CodeInterpreter.ipynb' >ReAct vs Function Calling vs Router</a>\n"
   ]
  }
 ],
 "metadata": {
  "language_info": {
   "name": "python"
  }
 },
 "nbformat": 4,
 "nbformat_minor": 2
}
