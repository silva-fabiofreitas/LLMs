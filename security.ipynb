{
 "cells": [
  {
   "cell_type": "markdown",
   "metadata": {},
   "source": [
    "## LLM Guard\n",
    "'https://llm-guard.com/'\n",
    "\n",
    "\n",
    "## LLMops\n",
    "### The Developer-First AI Platform\n",
    "Pezzo enables you to build, test, monitor and instantly ship AI all in one platform, while constantly optimizing for cost and performance.\n",
    "### Langsmith\n"
   ]
  }
 ],
 "metadata": {
  "language_info": {
   "name": "python"
  }
 },
 "nbformat": 4,
 "nbformat_minor": 2
}
