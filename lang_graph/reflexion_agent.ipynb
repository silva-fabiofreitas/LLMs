{
 "cells": [
  {
   "cell_type": "markdown",
   "metadata": {},
   "source": [
    "# Reflexion agent\n",
    "\n",
    "[Reflexion](https://arxiv.org/abs/2303.11366?ref=blog.langchain.dev) by Shinn, et. al., is an architecture designed to learn through verbal feedback and self-reflection. Within reflexion, the actor agent explicitly critiques each response and grounds its criticism in external data. It is forced to generate citations and explicitly enumerate superfluous and missing aspects of the generated response. This makes the content of the reflections more constructive and better steers the generator in responding to the feedback.\n",
    "\n",
    "In the linked example, we stop after a fixed number of steps, though you can also offload this decision to the reflection LLM call.\n",
    "\n",
    "https://python.langchain.com/docs/how_to/tool_calling/"
   ]
  },
  {
   "cell_type": "markdown",
   "metadata": {},
   "source": [
    "## Schemas"
   ]
  },
  {
   "cell_type": "code",
   "execution_count": 28,
   "metadata": {},
   "outputs": [],
   "source": [
    "from typing import List\n",
    "\n",
    "from pydantic import BaseModel, Field\n",
    "\n",
    "\n",
    "class Reflection(BaseModel):\n",
    "    missing: str = Field(description=\"Critique of what is  missing\")\n",
    "    superfluous: str = Field(description=\"Critique of what is superfluous.\")\n",
    "    \n",
    "    \n",
    "class AnswerQuestion(BaseModel):\n",
    "    answer: str = Field(description=\"~250 word detailed answer to the question\")  \n",
    "    reflection: str = Field(description=\"Your reflection on the initial answer.\")\n",
    "    search_queries: List[str] = Field(description=\"1-3 search queries for researching improvements to address the critique of your current answer.\")  \n",
    "    \n",
    "    def _dict(self):\n",
    "        return {\n",
    "            'search_queries':self.answer,\n",
    "            'reflection':self.reflection,\n",
    "            'search_queries':self.search_queries\n",
    "        }\n",
    "        \n",
    "class ReviserAnswer(BaseModel):\n",
    "    references: List[str] = Field(description=\"Citation motivating your update answer\")\n",
    "    "
   ]
  },
  {
   "cell_type": "markdown",
   "metadata": {},
   "source": [
    "## Tools excutor"
   ]
  },
  {
   "cell_type": "code",
   "execution_count": null,
   "metadata": {},
   "outputs": [
    {
     "ename": "NameError",
     "evalue": "name 'BaseMessages' is not defined",
     "output_type": "error",
     "traceback": [
      "\u001b[0;31m---------------------------------------------------------------------------\u001b[0m",
      "\u001b[0;31mNameError\u001b[0m                                 Traceback (most recent call last)",
      "Cell \u001b[0;32mIn[27], line 1\u001b[0m\n\u001b[0;32m----> 1\u001b[0m \u001b[38;5;28;01mdef\u001b[39;00m \u001b[38;5;21mexecute_tools\u001b[39m(state: List[\u001b[43mBaseMessages\u001b[49m]) \u001b[38;5;241m-\u001b[39m\u001b[38;5;241m>\u001b[39m List[ToolMessages]:\n\u001b[1;32m      2\u001b[0m     \u001b[38;5;28;01mpass\u001b[39;00m\n",
      "\u001b[0;31mNameError\u001b[0m: name 'BaseMessages' is not defined"
     ]
    }
   ],
   "source": [
    "def execute_tools(state: List[BaseMessages]) -> List[ToolMessages]:\n",
    "    tool_invocation: AIMessages = state[-1]\n",
    "\n",
    "answer = AnswerQuestion(\n",
    "        answer=\"\",\n",
    "        reflection=Reflection(missing=\"\", superfluous=\"\"),\n",
    "        search_queries=[\n",
    "            \"AI-powered SOC startups funding\",\n",
    "            \"AI SOC problem domain specifics\",\n",
    "            \"Technologies used by AI-powered SOC startups\",\n",
    "        ],\n",
    "        id=\"call_KpYHichFFEmLitHFvFhKy1Ra\",\n",
    "    )\n",
    "\n",
    "\n",
    "\n",
    "human_message = HumanMessage(\n",
    "        content=\"Write about AI-Powered SOC / autonomous soc  problem domain,\"\n",
    "        \" list startups that do that and raised capital.\"\n",
    "    )\n",
    "\n",
    "\n",
    "raw_res = execute_tools(\n",
    "    state=[\n",
    "        human_message,\n",
    "        AIMessage(\n",
    "            content=\"\",\n",
    "            tool_calls=[\n",
    "                {\n",
    "                    \"name\": AnswerQuestion.__name__,\n",
    "                    \"args\": answer.dict(),\n",
    "                    \"id\": \"call_KpYHichFFEmLitHFvFhKy1Ra\",\n",
    "                }\n",
    "            ],\n",
    "        ),\n",
    "    ]\n",
    ")\n",
    "print(raw_res)\n",
    "\n",
    " "
   ]
  },
  {
   "cell_type": "markdown",
   "metadata": {},
   "source": [
    "## Chains"
   ]
  },
  {
   "cell_type": "code",
   "execution_count": null,
   "metadata": {},
   "outputs": [],
   "source": [
    "import datetime \n",
    "from dotenv import load_dotenv \n",
    "\n",
    "load_dotenv()\n",
    "\n",
    "from langchain_core.output_parsers.openai_tools import JsonOutputToolsParser,PydanticToolsParser\n",
    "from langchain_core.output_parsers import PydanticOutputParser\n",
    "\n",
    "from langchain_core.messages import HumanMessage\n",
    "from langchain_core.prompts import ChatPromptTemplate, MessagesPlaceholder\n",
    "from langchain_openai import ChatOpenAI"
   ]
  },
  {
   "cell_type": "code",
   "execution_count": 30,
   "metadata": {},
   "outputs": [],
   "source": [
    "llm = ChatOpenAI(model=\"gpt-4o-mini\")\n",
    "parser = JsonOutputToolsParser(return_id=True)\n",
    "parser_pydantic = PydanticToolsParser(tools=[AnswerQuestion])\n"
   ]
  },
  {
   "cell_type": "code",
   "execution_count": 31,
   "metadata": {},
   "outputs": [],
   "source": [
    "actor_prompt_template = ChatPromptTemplate.from_messages(\n",
    "    [\n",
    "        (\n",
    "    \"system\", \n",
    "    \"\"\"You are expert researcher.\n",
    "       Current time: {time}\n",
    "    1. {first_instruction}\n",
    "    2. Reflect and critique your answer. Be severe to maximizer improvement.\n",
    "    3. Recommend search queries to resaerch information and improve yours answer.  \n",
    "    \"\"\"\n",
    "        ),\n",
    "        MessagesPlaceholder(variable_name='messages'),\n",
    "        (\"system\", \"Answer the user's question above using the required format.\"),\n",
    "        \n",
    "    ]\n",
    ").partial(\n",
    "    time=lambda: datetime.datetime.now().isoformat()\n",
    ")"
   ]
  },
  {
   "cell_type": "code",
   "execution_count": 32,
   "metadata": {},
   "outputs": [],
   "source": [
    "first_response_prompt_template = actor_prompt_template.partial(\n",
    "    first_instruction = \"Provider a detailed ~250 word answer\",\n",
    ")\n",
    "\n",
    "first_responder =  first_response_prompt_template | llm.bind_tools(\n",
    "    tools=[AnswerQuestion], tool_choice=\"AnswerQuestion\"\n",
    ")"
   ]
  },
  {
   "cell_type": "code",
   "execution_count": 33,
   "metadata": {},
   "outputs": [],
   "source": [
    "revise_instructions = \"\"\"Revise your previous answer using the new information.\n",
    "    - You should use the previous critique to add important information to your answer.\n",
    "        - You MUST include numerical citations in your revised answer to ensure it can be verified.\n",
    "        - Add a \"References\" section to the bottom of your answer (which does not count towards the word limit). In form of:\n",
    "            - [1] https://example.com\n",
    "            - [2] https://example.com\n",
    "    - You should use the previous critique to remove superfluous information from your answer and make SURE it is not more than 250 words.\n",
    "\"\"\"\n",
    "\n",
    "revisor = (\n",
    "    actor_prompt_template.partial(first_instruction=revise_instructions) | \n",
    "    llm.bind_tools(tools=[ReviserAnswer], tool_choice='ReviseAnswer')\n",
    ")\n"
   ]
  },
  {
   "cell_type": "markdown",
   "metadata": {},
   "source": [
    "## Main"
   ]
  },
  {
   "cell_type": "code",
   "execution_count": 34,
   "metadata": {},
   "outputs": [
    {
     "data": {
      "text/plain": [
       "[AnswerQuestion(answer='The problem domain of AI-powered or autonomous Security Operations Centers (SOCs) focuses on enhancing cybersecurity through intelligent automation, reducing the need for human intervention in detecting and responding to threats. Traditional SOCs are often overwhelmed by the volume of security alerts, leading to alert fatigue and potential oversight of critical threats. AI and machine learning technologies can analyze vast amounts of data, identify patterns, and automate responses, thereby improving the efficiency and effectiveness of security operations.\\n\\nSeveral startups are innovating in this space, leveraging AI to create smarter SOCs. Notable examples include:\\n\\n1. **Snyk** - A developer-first security platform that helps developers find and fix vulnerabilities in their code. Snyk raised $300 million in a funding round led by Tiger Global in 2021.\\n\\n2. **Cymulate** - This company provides continuous security validation for organizations, allowing them to simulate cyber attacks and assess their security posture. Cymulate raised $45 million in a Series C funding round in 2021.\\n\\n3. **Darktrace** - Utilizing AI to detect and respond to cyber threats in real-time, Darktrace has become a leader in autonomous cybersecurity. The company raised $230 million in a funding round in 2021, valuing it at $2 billion.\\n\\n4. **Vectra AI** - Vectra provides AI-driven detection and response solutions, focusing on network security and cloud environments. The company raised $100 million in a Series E funding round in 2021.\\n\\nThese startups represent a growing trend towards integrating AI into cybersecurity, addressing the challenges faced by traditional SOCs and enhancing overall security efficacy.', reflection=\"While the initial response provides a solid overview of the AI-powered SOC problem domain and lists relevant startups, it lacks depth in explaining how each startup specifically applies AI in their solutions. Additionally, it could benefit from mentioning the challenges faced by traditional SOCs in more detail, as well as potential future trends in the autonomous SOC space. The financial details are informative, but more context about the significance of the funding rounds could enhance the reader's understanding of market dynamics.\\n\\nFurthermore, the answer could include insights into the competitive landscape and how these startups differentiate themselves from more established players in the cybersecurity field. Including recent statistics or trends in cybersecurity threats would also provide a stronger foundation for the discussion.\", search_queries=['AI in cybersecurity startups', 'autonomous SOC funding rounds', 'impact of AI on Security Operations Centers'])]"
      ]
     },
     "execution_count": 34,
     "metadata": {},
     "output_type": "execute_result"
    }
   ],
   "source": [
    "human_message = HumanMessage(\n",
    "    content=\"Write about AI-Powered / autonomus soc problem domain,\"\n",
    "    \"list startups that do that and raised capital.\"\n",
    ") \n",
    "\n",
    "chain = (\n",
    "    first_response_prompt_template |\n",
    "    llm.bind_tools(tools=[AnswerQuestion], tool_choice=\"AnswerQuestion\") |\n",
    "    parser_pydantic   \n",
    ")\n",
    "\n",
    "res = chain.invoke(input={\"messages\":[human_message]})\n",
    "res"
   ]
  },
  {
   "cell_type": "code",
   "execution_count": 36,
   "metadata": {},
   "outputs": [
    {
     "name": "stdout",
     "output_type": "stream",
     "text": [
      "While the initial response provides a solid overview of the AI-powered SOC problem domain and lists relevant startups, it lacks depth in explaining how each startup specifically applies AI in their solutions. Additionally, it could benefit from mentioning the challenges faced by traditional SOCs in more detail, as well as potential future trends in the autonomous SOC space. The financial details are informative, but more context about the significance of the funding rounds could enhance the reader's understanding of market dynamics.\n",
      "\n",
      "Furthermore, the answer could include insights into the competitive landscape and how these startups differentiate themselves from more established players in the cybersecurity field. Including recent statistics or trends in cybersecurity threats would also provide a stronger foundation for the discussion.\n",
      "--------------------------------------\n",
      "\n",
      "The problem domain of AI-powered or autonomous Security Operations Centers (SOCs) focuses on enhancing cybersecurity through intelligent automation, reducing the need for human intervention in detecting and responding to threats. Traditional SOCs are often overwhelmed by the volume of security alerts, leading to alert fatigue and potential oversight of critical threats. AI and machine learning technologies can analyze vast amounts of data, identify patterns, and automate responses, thereby improving the efficiency and effectiveness of security operations.\n",
      "\n",
      "Several startups are innovating in this space, leveraging AI to create smarter SOCs. Notable examples include:\n",
      "\n",
      "1. **Snyk** - A developer-first security platform that helps developers find and fix vulnerabilities in their code. Snyk raised $300 million in a funding round led by Tiger Global in 2021.\n",
      "\n",
      "2. **Cymulate** - This company provides continuous security validation for organizations, allowing them to simulate cyber attacks and assess their security posture. Cymulate raised $45 million in a Series C funding round in 2021.\n",
      "\n",
      "3. **Darktrace** - Utilizing AI to detect and respond to cyber threats in real-time, Darktrace has become a leader in autonomous cybersecurity. The company raised $230 million in a funding round in 2021, valuing it at $2 billion.\n",
      "\n",
      "4. **Vectra AI** - Vectra provides AI-driven detection and response solutions, focusing on network security and cloud environments. The company raised $100 million in a Series E funding round in 2021.\n",
      "\n",
      "These startups represent a growing trend towards integrating AI into cybersecurity, addressing the challenges faced by traditional SOCs and enhancing overall security efficacy.\n",
      "--------------------------------------\n",
      "\n",
      "['AI in cybersecurity startups', 'autonomous SOC funding rounds', 'impact of AI on Security Operations Centers']\n",
      "{'search_queries': ['AI in cybersecurity startups', 'autonomous SOC funding rounds', 'impact of AI on Security Operations Centers'], 'reflection': \"While the initial response provides a solid overview of the AI-powered SOC problem domain and lists relevant startups, it lacks depth in explaining how each startup specifically applies AI in their solutions. Additionally, it could benefit from mentioning the challenges faced by traditional SOCs in more detail, as well as potential future trends in the autonomous SOC space. The financial details are informative, but more context about the significance of the funding rounds could enhance the reader's understanding of market dynamics.\\n\\nFurthermore, the answer could include insights into the competitive landscape and how these startups differentiate themselves from more established players in the cybersecurity field. Including recent statistics or trends in cybersecurity threats would also provide a stronger foundation for the discussion.\"}\n",
      "{'answer': 'The problem domain of AI-powered or autonomous Security Operations Centers (SOCs) focuses on enhancing cybersecurity through intelligent automation, reducing the need for human intervention in detecting and responding to threats. Traditional SOCs are often overwhelmed by the volume of security alerts, leading to alert fatigue and potential oversight of critical threats. AI and machine learning technologies can analyze vast amounts of data, identify patterns, and automate responses, thereby improving the efficiency and effectiveness of security operations.\\n\\nSeveral startups are innovating in this space, leveraging AI to create smarter SOCs. Notable examples include:\\n\\n1. **Snyk** - A developer-first security platform that helps developers find and fix vulnerabilities in their code. Snyk raised $300 million in a funding round led by Tiger Global in 2021.\\n\\n2. **Cymulate** - This company provides continuous security validation for organizations, allowing them to simulate cyber attacks and assess their security posture. Cymulate raised $45 million in a Series C funding round in 2021.\\n\\n3. **Darktrace** - Utilizing AI to detect and respond to cyber threats in real-time, Darktrace has become a leader in autonomous cybersecurity. The company raised $230 million in a funding round in 2021, valuing it at $2 billion.\\n\\n4. **Vectra AI** - Vectra provides AI-driven detection and response solutions, focusing on network security and cloud environments. The company raised $100 million in a Series E funding round in 2021.\\n\\nThese startups represent a growing trend towards integrating AI into cybersecurity, addressing the challenges faced by traditional SOCs and enhancing overall security efficacy.', 'reflection': \"While the initial response provides a solid overview of the AI-powered SOC problem domain and lists relevant startups, it lacks depth in explaining how each startup specifically applies AI in their solutions. Additionally, it could benefit from mentioning the challenges faced by traditional SOCs in more detail, as well as potential future trends in the autonomous SOC space. The financial details are informative, but more context about the significance of the funding rounds could enhance the reader's understanding of market dynamics.\\n\\nFurthermore, the answer could include insights into the competitive landscape and how these startups differentiate themselves from more established players in the cybersecurity field. Including recent statistics or trends in cybersecurity threats would also provide a stronger foundation for the discussion.\", 'search_queries': ['AI in cybersecurity startups', 'autonomous SOC funding rounds', 'impact of AI on Security Operations Centers']}\n"
     ]
    }
   ],
   "source": [
    "print(res[0].reflection)\n",
    "print('--------------------------------------\\n')\n",
    "print(res[0].answer)\n",
    "print('--------------------------------------\\n')\n",
    "print(res[0].search_queries)\n",
    "\n",
    "print(res[0]._dict())\n",
    "\n",
    "print(res[0].dict())"
   ]
  },
  {
   "cell_type": "code",
   "execution_count": null,
   "metadata": {},
   "outputs": [],
   "source": []
  }
 ],
 "metadata": {
  "kernelspec": {
   "display_name": "env",
   "language": "python",
   "name": "python3"
  },
  "language_info": {
   "codemirror_mode": {
    "name": "ipython",
    "version": 3
   },
   "file_extension": ".py",
   "mimetype": "text/x-python",
   "name": "python",
   "nbconvert_exporter": "python",
   "pygments_lexer": "ipython3",
   "version": "3.12.2"
  }
 },
 "nbformat": 4,
 "nbformat_minor": 2
}
