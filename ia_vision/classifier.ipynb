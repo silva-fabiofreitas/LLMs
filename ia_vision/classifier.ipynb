{
 "cells": [
  {
   "cell_type": "markdown",
   "metadata": {},
   "source": [
    "**Objetivo:** Gerar relatório amostral classificando os diferentes padrões de tabelas   "
   ]
  },
  {
   "cell_type": "code",
   "execution_count": 1,
   "metadata": {},
   "outputs": [
    {
     "data": {
      "text/plain": [
       "True"
      ]
     },
     "execution_count": 1,
     "metadata": {},
     "output_type": "execute_result"
    }
   ],
   "source": [
    "from langchain_core.output_parsers import PydanticOutputParser\n",
    "from langchain_openai import ChatOpenAI\n",
    "from dotenv import load_dotenv\n",
    "\n",
    "from schema import Table\n",
    "from prompt import prompt_image\n",
    "from utils import encode_base64\n",
    "\n",
    "load_dotenv()"
   ]
  },
  {
   "cell_type": "markdown",
   "metadata": {},
   "source": [
    "Carregar imagens das tabelas e converter em base64"
   ]
  },
  {
   "cell_type": "code",
   "execution_count": 126,
   "metadata": {},
   "outputs": [],
   "source": [
    "# files\n",
    "from pathlib import Path\n",
    "import re\n",
    "\n",
    "path = Path('../data/imgs/')\n",
    "\n",
    "images_base64 = [(p.name, encode_base64(p)) for p in path.rglob('*.*')]"
   ]
  },
  {
   "cell_type": "code",
   "execution_count": 127,
   "metadata": {},
   "outputs": [],
   "source": [
    "from langchain_core.prompts import ChatPromptTemplate, MessagesPlaceholder\n",
    "from langchain_core.messages import HumanMessage\n",
    "from langchain_core.output_parsers import StrOutputParser\n",
    "\n",
    "prompt = ChatPromptTemplate.from_messages(\n",
    "        [\n",
    "            (\"system\", \"The presented images may display different patterns. Group the images into categories. Count the elements. Restriction: assign each image to only one category.\"),\n",
    "         MessagesPlaceholder('images')\n",
    "        ]\n",
    ")"
   ]
  },
  {
   "cell_type": "code",
   "execution_count": 155,
   "metadata": {},
   "outputs": [],
   "source": [
    "input = []\n",
    "for file, img in images_base64:\n",
    "    input.extend([\n",
    "        {\"type\": \"text\",\"text\": file},\n",
    "        {\"type\": \"image_url\",\"image_url\": {\"url\": f\"data:image/bmp;base64,{img}\"}}, \n",
    "        ])\n",
    "    "
   ]
  },
  {
   "cell_type": "code",
   "execution_count": 156,
   "metadata": {},
   "outputs": [
    {
     "data": {
      "text/plain": [
       "\"System: The presented images may display different patterns. Group the images into categories. Count the elements. Restriction: assign each image to only one category.\\nHuman: [{'type': 'text', 'text': 'tabela1 - Copia (2).bmp'}, {'type': 'image_url', 'image_url': {'url': 'data:image/bmp;base64,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'}}]\""
      ]
     },
     "execution_count": 156,
     "metadata": {},
     "output_type": "execute_result"
    }
   ],
   "source": [
    "prompt.format(images=[HumanMessage(content=input[0:2])])"
   ]
  },
  {
   "cell_type": "code",
   "execution_count": 116,
   "metadata": {},
   "outputs": [],
   "source": [
    "# Instância o modelo\n",
    "model = ChatOpenAI(model=\"gpt-4o-mini\")"
   ]
  },
  {
   "cell_type": "code",
   "execution_count": null,
   "metadata": {},
   "outputs": [],
   "source": [
    "chain = prompt | model"
   ]
  },
  {
   "cell_type": "code",
   "execution_count": 157,
   "metadata": {},
   "outputs": [],
   "source": [
    "res = chain.invoke({'images':[HumanMessage(content=input)]})"
   ]
  },
  {
   "cell_type": "code",
   "execution_count": 158,
   "metadata": {},
   "outputs": [
    {
     "data": {
      "text/plain": [
       "AIMessage(content='Here are the categories for the images based on their content:\\n\\n### Categories:\\n\\n1. **Basic Coverage Tables**\\n   - Contains basic data about coverage in different scenarios.\\n   - **Images:** \\n     - tabela1 - Copia (2)\\n     - tabela1 - Copia\\n     - tabela5 - Copia\\n     - tabela2 - Copia (2)\\n     - tabela2 - Copia\\n     - tabela1\\n     - tabela5\\n\\n2. **Vertical Format Tables**\\n   - Presents data in a vertical layout for better comparison.\\n   - **Images:**\\n     - tabela4 - Copia (2)\\n     - tabela4\\n     - tabela4 - Copia\\n     - tabela4 - Copia (2)\\n\\n3. **Coverage with Observations**\\n   - Includes notes or observations regarding the coverage data.\\n   - **Images:**\\n     - tabela5\\n     - tabela5 - Copia (2)\\n\\n4. **Difference Calculation Tables**\\n   - Shows differences in coverage compared to a baseline scenario.\\n   - **Images:**\\n     - tabela3 - Copia\\n     - tabela3\\n     - tabela2 - Copia (2)\\n\\n### Count of Elements in Each Category:\\n\\n- **Basic Coverage Tables:** 7\\n- **Vertical Format Tables:** 4\\n- **Coverage with Observations:** 2\\n- **Difference Calculation Tables:** 3\\n\\nLet me know if you need any further analysis or details!', additional_kwargs={'refusal': None}, response_metadata={'token_usage': {'completion_tokens': 296, 'prompt_tokens': 201316, 'total_tokens': 201612, 'completion_tokens_details': {'reasoning_tokens': 0, 'audio_tokens': 0, 'accepted_prediction_tokens': 0, 'rejected_prediction_tokens': 0}, 'prompt_tokens_details': {'cached_tokens': 0, 'audio_tokens': 0}}, 'model_name': 'gpt-4o-mini-2024-07-18', 'system_fingerprint': 'fp_9b78b61c52', 'finish_reason': 'stop', 'logprobs': None}, id='run-0f4a7e38-e873-45da-938d-68230e680c32-0', usage_metadata={'input_tokens': 201316, 'output_tokens': 296, 'total_tokens': 201612, 'input_token_details': {'audio': 0, 'cache_read': 0}, 'output_token_details': {'audio': 0, 'reasoning': 0}})"
      ]
     },
     "execution_count": 158,
     "metadata": {},
     "output_type": "execute_result"
    }
   ],
   "source": [
    "res"
   ]
  },
  {
   "cell_type": "code",
   "execution_count": 159,
   "metadata": {},
   "outputs": [
    {
     "name": "stdout",
     "output_type": "stream",
     "text": [
      "Here are the categories for the images based on their content:\n",
      "\n",
      "### Categories:\n",
      "\n",
      "1. **Basic Coverage Tables**\n",
      "   - Contains basic data about coverage in different scenarios.\n",
      "   - **Images:** \n",
      "     - tabela1 - Copia (2)\n",
      "     - tabela1 - Copia\n",
      "     - tabela5 - Copia\n",
      "     - tabela2 - Copia (2)\n",
      "     - tabela2 - Copia\n",
      "     - tabela1\n",
      "     - tabela5\n",
      "\n",
      "2. **Vertical Format Tables**\n",
      "   - Presents data in a vertical layout for better comparison.\n",
      "   - **Images:**\n",
      "     - tabela4 - Copia (2)\n",
      "     - tabela4\n",
      "     - tabela4 - Copia\n",
      "     - tabela4 - Copia (2)\n",
      "\n",
      "3. **Coverage with Observations**\n",
      "   - Includes notes or observations regarding the coverage data.\n",
      "   - **Images:**\n",
      "     - tabela5\n",
      "     - tabela5 - Copia (2)\n",
      "\n",
      "4. **Difference Calculation Tables**\n",
      "   - Shows differences in coverage compared to a baseline scenario.\n",
      "   - **Images:**\n",
      "     - tabela3 - Copia\n",
      "     - tabela3\n",
      "     - tabela2 - Copia (2)\n",
      "\n",
      "### Count of Elements in Each Category:\n",
      "\n",
      "- **Basic Coverage Tables:** 7\n",
      "- **Vertical Format Tables:** 4\n",
      "- **Coverage with Observations:** 2\n",
      "- **Difference Calculation Tables:** 3\n",
      "\n",
      "Let me know if you need any further analysis or details!\n"
     ]
    }
   ],
   "source": [
    "print(res.content)"
   ]
  },
  {
   "cell_type": "code",
   "execution_count": null,
   "metadata": {},
   "outputs": [],
   "source": []
  }
 ],
 "metadata": {
  "kernelspec": {
   "display_name": "env",
   "language": "python",
   "name": "python3"
  },
  "language_info": {
   "codemirror_mode": {
    "name": "ipython",
    "version": 3
   },
   "file_extension": ".py",
   "mimetype": "text/x-python",
   "name": "python",
   "nbconvert_exporter": "python",
   "pygments_lexer": "ipython3",
   "version": "3.12.2"
  }
 },
 "nbformat": 4,
 "nbformat_minor": 2
}
