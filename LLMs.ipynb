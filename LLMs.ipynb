{
 "cells": [
  {
   "cell_type": "code",
   "execution_count": 6,
   "id": "initial_id",
   "metadata": {
    "ExecuteTime": {
     "end_time": "2024-06-27T21:26:01.604885700Z",
     "start_time": "2024-06-27T21:26:01.586926Z"
    },
    "collapsed": true
   },
   "outputs": [
    {
     "data": {
      "text/plain": [
       "True"
      ]
     },
     "execution_count": 6,
     "metadata": {},
     "output_type": "execute_result"
    }
   ],
   "source": [
    "from dotenv import load_dotenv\n",
    "\n",
    "load_dotenv()"
   ]
  },
  {
   "cell_type": "code",
   "execution_count": 18,
   "id": "3d2b11c24fb9f1f2",
   "metadata": {
    "ExecuteTime": {
     "end_time": "2024-06-27T21:26:02.010449200Z",
     "start_time": "2024-06-27T21:26:01.638396800Z"
    },
    "collapsed": false
   },
   "outputs": [],
   "source": [
    "\n"
   ]
  },
  {
   "cell_type": "code",
   "execution_count": 29,
   "id": "fa6936cd4b96a72d",
   "metadata": {
    "ExecuteTime": {
     "end_time": "2024-06-27T21:26:02.012451400Z",
     "start_time": "2024-06-27T21:26:02.012451400Z"
    },
    "collapsed": false
   },
   "outputs": [],
   "source": [
    "from langchain_openai import ChatOpenAI\n",
    "from langchain_core.prompts import ChatPromptTemplate\n",
    "from langchain_core.output_parsers import StrOutputParser, MarkdownListOutputParser\n",
    "\n",
    "llm = ChatOpenAI()"
   ]
  },
  {
   "cell_type": "markdown",
   "id": "9b7bfced",
   "metadata": {},
   "source": [
    "## Especialista em direito"
   ]
  },
  {
   "cell_type": "code",
   "execution_count": 40,
   "id": "d0908953",
   "metadata": {},
   "outputs": [],
   "source": [
    "TEMPLATE = \"\"\"\n",
    "Você é um especialista jurídico e professor de direito no Brasil\n",
    "Auxilia os alunos na criação de mapa mental (MindMap)\n",
    "O mapa mental deve conter a ideia principal, ramos e subramos, sempre apontar os artigos \n",
    "Context:{input}\n",
    "Formate a saida do mapa mental em mardown \n",
    "\"\"\"\n"
   ]
  },
  {
   "cell_type": "code",
   "execution_count": 41,
   "id": "a9dbd43a",
   "metadata": {},
   "outputs": [],
   "source": [
    "prompt = ChatPromptTemplate.from_template(template=TEMPLATE)\n",
    "output_parser = StrOutputParser()\n",
    "chain = prompt | llm | output_parser\n"
   ]
  },
  {
   "cell_type": "code",
   "execution_count": 42,
   "id": "622a4650",
   "metadata": {},
   "outputs": [],
   "source": [
    "res = chain.invoke({\"input\": \"liste os diretiros fundamentais na constituição brasileira\"})"
   ]
  },
  {
   "cell_type": "code",
   "execution_count": 43,
   "id": "f1d9f321",
   "metadata": {},
   "outputs": [
    {
     "name": "stdout",
     "output_type": "stream",
     "text": [
      "# Direitos Fundamentais na Constituição Brasileira\n",
      "\n",
      "- **I - Direitos Individuais e Coletivos:**\n",
      "  - **Artigos 5º ao 17**\n",
      "    - Direito à vida\n",
      "    - Direito à liberdade\n",
      "    - Direito à igualdade\n",
      "    - Direito à segurança\n",
      "    - Direito à propriedade\n",
      "    - Direito à intimidade\n",
      "    - Direito à liberdade de expressão\n",
      "    - Direito à liberdade de religião\n",
      "    - Direito à liberdade de associação\n",
      "    - Direito à liberdade de reunião\n",
      "    - Direito à privacidade\n",
      "    - Direito à inviolabilidade do domicílio\n",
      "\n",
      "- **II - Direitos Sociais:**\n",
      "  - **Artigos 6º ao 11**\n",
      "    - Direito à educação\n",
      "    - Direito à saúde\n",
      "    - Direito ao trabalho\n",
      "    - Direito à moradia\n",
      "    - Direito à segurança\n",
      "    - Direito à previdência social\n",
      "\n",
      "- **III - Direitos de Nacionalidade:**\n",
      "  - **Artigos 12 ao 16**\n",
      "    - Direito à nacionalidade\n",
      "    - Direito à naturalização\n",
      "    - Direito à perda da nacionalidade\n",
      "\n",
      "- **IV - Direitos Políticos:**\n",
      "  - **Artigos 14 ao 17**\n",
      "    - Direito de votar\n",
      "    - Direito de ser votado\n",
      "    - Direito de participar do processo político\n",
      "\n",
      "- **V - Direitos de Garantias Constitucionais:**\n",
      "  - **Artigos 5º ao 17**\n",
      "    - Direito à ampla defesa\n",
      "    - Direito ao contraditório\n",
      "    - Direito à presunção de inocência\n",
      "    - Direito à inafastabilidade do controle judicial\n",
      "\n",
      "*Observação: Este mapa mental é uma simplificação dos direitos fundamentais contidos na Constituição Brasileira, consulte o texto constitucional completo para uma compreensão mais abrangente.*\n"
     ]
    }
   ],
   "source": [
    "print(res)"
   ]
  }
 ],
 "metadata": {
  "kernelspec": {
   "display_name": "Python 3",
   "language": "python",
   "name": "python3"
  },
  "language_info": {
   "codemirror_mode": {
    "name": "ipython",
    "version": 3
   },
   "file_extension": ".py",
   "mimetype": "text/x-python",
   "name": "python",
   "nbconvert_exporter": "python",
   "pygments_lexer": "ipython3",
   "version": "3.12.2+"
  }
 },
 "nbformat": 4,
 "nbformat_minor": 5
}
